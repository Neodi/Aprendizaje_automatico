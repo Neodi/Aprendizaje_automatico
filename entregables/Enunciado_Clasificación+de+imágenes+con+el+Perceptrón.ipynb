{
 "cells": [
  {
   "cell_type": "markdown",
   "metadata": {},
   "source": [
    "# Perceptrón: Caso práctico II"
   ]
  },
  {
   "cell_type": "markdown",
   "metadata": {},
   "source": [
    "## Dataset"
   ]
  },
  {
   "cell_type": "markdown",
   "metadata": {},
   "source": [
    "La base de datos del MNIST (base de datos modificada del Instituto Nacional de Normas y Tecnología) es una gran base de datos de dígitos manuscritos que se utiliza comúnmente para el entrenamiento de diversos sistemas de procesamiento de imágenes. La base de datos también se utiliza ampliamente para el entrenamiento y el ensayo en el campo del aprendizaje automático. Se creó \"remezclando\" las muestras de los conjuntos de datos originales del NIST. Los creadores consideraron que, dado que el conjunto de datos de capacitación del NIST fue tomado de los empleados de la Oficina del Censo de los Estados Unidos, mientras que el conjunto de datos de prueba fue tomado de los estudiantes de secundaria de los Estados Unidos, no era muy adecuado para los experimentos de aprendizaje automático. Además, las imágenes en blanco y negro del NIST fueron normalizadas para que encajaran en un cuadro delimitador de 28x28 píxeles, lo que introdujo niveles de escala de grises.\n",
    "\n",
    "La base de datos del MNIST contiene 60.000 imágenes de entrenamiento y 10.000 imágenes de prueba. La mitad del conjunto de entrenamiento y la otra mitad del conjunto de pruebas se tomaron del conjunto de datos de entrenamiento del NIST, mientras que la otra mitad del conjunto de entrenamiento y la otra mitad del conjunto de pruebas se tomaron del conjunto de datos de pruebas del NIST.Los creadores originales de la base de datos mantienen una lista de algunos de los métodos probados en ella. En su papel original, utilizan una máquina de soporte vectorial para obtener una tasa de error del 0,8%. En 2017 se ha publicado un conjunto de datos ampliado similar al MNIST llamado EMNIST, que contiene 240.000 imágenes de entrenamiento y 40.000 imágenes de prueba de dígitos y caracteres escritos a mano."
   ]
  },
  {
   "cell_type": "markdown",
   "metadata": {},
   "source": [
    "## Enunciado"
   ]
  },
  {
   "cell_type": "markdown",
   "metadata": {},
   "source": [
    "En este ejercicio práctico vamos a utilizar el Perceptrón para solucionar un problema más complejo que el anterior. En este caso, nuestro objetivo será clasificar un conjunto de imágener en base al número que se muestra en las mismas."
   ]
  },
  {
   "cell_type": "markdown",
   "metadata": {},
   "source": [
    "## 1. Lectura del conjunto de datos"
   ]
  },
  {
   "cell_type": "code",
   "execution_count": 1,
   "metadata": {},
   "outputs": [],
   "source": [
    "# Importamos el conjunto de datos\n",
    "from sklearn.datasets import fetch_openml\n",
    "\n",
    "# Añadimos as_frame=False para forzar la devolución de un array\n",
    "mnist = fetch_openml('mnist_784',  as_frame=False)"
   ]
  },
  {
   "cell_type": "code",
   "execution_count": 2,
   "metadata": {},
   "outputs": [
    {
     "data": {
      "text/plain": [
       "array([[0, 0, 0, ..., 0, 0, 0],\n",
       "       [0, 0, 0, ..., 0, 0, 0],\n",
       "       [0, 0, 0, ..., 0, 0, 0],\n",
       "       ...,\n",
       "       [0, 0, 0, ..., 0, 0, 0],\n",
       "       [0, 0, 0, ..., 0, 0, 0],\n",
       "       [0, 0, 0, ..., 0, 0, 0]])"
      ]
     },
     "execution_count": 2,
     "metadata": {},
     "output_type": "execute_result"
    }
   ],
   "source": [
    "mnist.data"
   ]
  },
  {
   "cell_type": "markdown",
   "metadata": {},
   "source": [
    "## 2. Visualización del conjunto de datos"
   ]
  },
  {
   "cell_type": "code",
   "execution_count": 8,
   "metadata": {},
   "outputs": [
    {
     "data": {
      "image/png": "[encoded data removed]",
      "text/plain": [
       "<Figure size 2000x400 with 10 Axes>"
      ]
     },
     "metadata": {},
     "output_type": "display_data"
    }
   ],
   "source": [
    "import numpy as np\n",
    "import matplotlib.pyplot as plt\n",
    "\n",
    "plt.figure(figsize=(20, 4))\n",
    "\n",
    "#TODO\n",
    "X, y = mnist['data'], mnist['target']\n",
    "y = y.astype(np.int8)\n",
    "\n",
    "for i in range(10):\n",
    "    ax = plt.subplot(1, 10, i + 1)\n",
    "    ax.imshow(X[i].reshape(28, 28), cmap='gray')\n",
    "    ax.axis('off')\n",
    "    ax.set_title(f\"Label: {y[i]}\", fontsize=12)\n",
    "\n",
    "plt.show()"
   ]
  },
  {
   "cell_type": "code",
   "execution_count": 9,
   "metadata": {},
   "outputs": [
    {
     "name": "stdout",
     "output_type": "stream",
     "text": [
      "   0  1  2  3  4  5  6  7  8  9  ...  775  776  777  778  779  780  781  782  \\\n",
      "0  0  0  0  0  0  0  0  0  0  0  ...    0    0    0    0    0    0    0    0   \n",
      "1  0  0  0  0  0  0  0  0  0  0  ...    0    0    0    0    0    0    0    0   \n",
      "2  0  0  0  0  0  0  0  0  0  0  ...    0    0    0    0    0    0    0    0   \n",
      "3  0  0  0  0  0  0  0  0  0  0  ...    0    0    0    0    0    0    0    0   \n",
      "4  0  0  0  0  0  0  0  0  0  0  ...    0    0    0    0    0    0    0    0   \n",
      "\n",
      "   783  label  \n",
      "0    0      5  \n",
      "1    0      0  \n",
      "2    0      4  \n",
      "3    0      1  \n",
      "4    0      9  \n",
      "\n",
      "[5 rows x 785 columns]\n"
     ]
    }
   ],
   "source": [
    "# Conviertiendo el conjunto de datos en un DataFrame de Pandas\n",
    "import pandas as pd\n",
    "\n",
    "#TODO\n",
    "\n",
    "df = pd.DataFrame(X)\n",
    "df['label'] = y\n",
    "\n",
    "# Mostramos las primeras filas del DataFrame\n",
    "print(df.head())"
   ]
  },
  {
   "cell_type": "markdown",
   "metadata": {},
   "source": [
    "## 3. División del conjunto de datos"
   ]
  },
  {
   "cell_type": "code",
   "execution_count": 10,
   "metadata": {},
   "outputs": [
    {
     "name": "stdout",
     "output_type": "stream",
     "text": [
      "Tamaño de X_train: (56000, 784)\n",
      "Tamaño de X_test: (14000, 784)\n",
      "Tamaño de y_train: (56000,)\n",
      "Tamaño de y_test: (14000,)\n"
     ]
    }
   ],
   "source": [
    "from sklearn.model_selection import train_test_split\n",
    "\n",
    "#TODO\n",
    "\n",
    "# Dividimos el DataFrame en características (X) y etiquetas (y)\n",
    "X = df.drop('label', axis=1)  # Todos los píxeles de la imagen\n",
    "y = df['label']               # La etiqueta de cada imagen\n",
    "\n",
    "X_train, X_test, y_train, y_test = train_test_split(X, y, test_size=0.2, random_state=42)\n",
    "\n",
    "\n",
    "print(\"Tamaño de X_train:\", X_train.shape)\n",
    "print(\"Tamaño de X_test:\", X_test.shape)\n",
    "print(\"Tamaño de y_train:\", y_train.shape)\n",
    "print(\"Tamaño de y_test:\", y_test.shape)"
   ]
  },
  {
   "cell_type": "markdown",
   "metadata": {},
   "source": [
    "## 4. Entrenamiento del algoritmo"
   ]
  },
  {
   "cell_type": "code",
   "execution_count": null,
   "metadata": {},
   "outputs": [
    {
     "data": {
      "text/html": [
       "<style>#sk-container-id-3 {\n",
       "  /* Definition of color scheme common for light and dark mode */\n",
       "  --sklearn-color-text: black;\n",
       "  --sklearn-color-line: gray;\n",
       "  /* Definition of color scheme for unfitted estimators */\n",
       "  --sklearn-color-unfitted-level-0: #fff5e6;\n",
       "  --sklearn-color-unfitted-level-1: #f6e4d2;\n",
       "  --sklearn-color-unfitted-level-2: #ffe0b3;\n",
       "  --sklearn-color-unfitted-level-3: chocolate;\n",
       "  /* Definition of color scheme for fitted estimators */\n",
       "  --sklearn-color-fitted-level-0: #f0f8ff;\n",
       "  --sklearn-color-fitted-level-1: #d4ebff;\n",
       "  --sklearn-color-fitted-level-2: #b3dbfd;\n",
       "  --sklearn-color-fitted-level-3: cornflowerblue;\n",
       "\n",
       "  /* Specific color for light theme */\n",
       "  --sklearn-color-text-on-default-background: var(--sg-text-color, var(--theme-code-foreground, var(--jp-content-font-color1, black)));\n",
       "  --sklearn-color-background: var(--sg-background-color, var(--theme-background, var(--jp-layout-color0, white)));\n",
       "  --sklearn-color-border-box: var(--sg-text-color, var(--theme-code-foreground, var(--jp-content-font-color1, black)));\n",
       "  --sklearn-color-icon: #696969;\n",
       "\n",
       "  @media (prefers-color-scheme: dark) {\n",
       "    /* Redefinition of color scheme for dark theme */\n",
       "    --sklearn-color-text-on-default-background: var(--sg-text-color, var(--theme-code-foreground, var(--jp-content-font-color1, white)));\n",
       "    --sklearn-color-background: var(--sg-background-color, var(--theme-background, var(--jp-layout-color0, #111)));\n",
       "    --sklearn-color-border-box: var(--sg-text-color, var(--theme-code-foreground, var(--jp-content-font-color1, white)));\n",
       "    --sklearn-color-icon: #878787;\n",
       "  }\n",
       "}\n",
       "\n",
       "#sk-container-id-3 {\n",
       "  color: var(--sklearn-color-text);\n",
       "}\n",
       "\n",
       "#sk-container-id-3 pre {\n",
       "  padding: 0;\n",
       "}\n",
       "\n",
       "#sk-container-id-3 input.sk-hidden--visually {\n",
       "  border: 0;\n",
       "  clip: rect(1px 1px 1px 1px);\n",
       "  clip: rect(1px, 1px, 1px, 1px);\n",
       "  height: 1px;\n",
       "  margin: -1px;\n",
       "  overflow: hidden;\n",
       "  padding: 0;\n",
       "  position: absolute;\n",
       "  width: 1px;\n",
       "}\n",
       "\n",
       "#sk-container-id-3 div.sk-dashed-wrapped {\n",
       "  border: 1px dashed var(--sklearn-color-line);\n",
       "  margin: 0 0.4em 0.5em 0.4em;\n",
       "  box-sizing: border-box;\n",
       "  padding-bottom: 0.4em;\n",
       "  background-color: var(--sklearn-color-background);\n",
       "}\n",
       "\n",
       "#sk-container-id-3 div.sk-container {\n",
       "  /* jupyter's `normalize.less` sets `[hidden] { display: none; }`\n",
       "     but bootstrap.min.css set `[hidden] { display: none !important; }`\n",
       "     so we also need the `!important` here to be able to override the\n",
       "     default hidden behavior on the sphinx rendered scikit-learn.org.\n",
       "     See: https://github.com/scikit-learn/scikit-learn/issues/21755 */\n",
       "  display: inline-block !important;\n",
       "  position: relative;\n",
       "}\n",
       "\n",
       "#sk-container-id-3 div.sk-text-repr-fallback {\n",
       "  display: none;\n",
       "}\n",
       "\n",
       "div.sk-parallel-item,\n",
       "div.sk-serial,\n",
       "div.sk-item {\n",
       "  /* draw centered vertical line to link estimators */\n",
       "  background-image: linear-gradient(var(--sklearn-color-text-on-default-background), var(--sklearn-color-text-on-default-background));\n",
       "  background-size: 2px 100%;\n",
       "  background-repeat: no-repeat;\n",
       "  background-position: center center;\n",
       "}\n",
       "\n",
       "/* Parallel-specific style estimator block */\n",
       "\n",
       "#sk-container-id-3 div.sk-parallel-item::after {\n",
       "  content: \"\";\n",
       "  width: 100%;\n",
       "  border-bottom: 2px solid var(--sklearn-color-text-on-default-background);\n",
       "  flex-grow: 1;\n",
       "}\n",
       "\n",
       "#sk-container-id-3 div.sk-parallel {\n",
       "  display: flex;\n",
       "  align-items: stretch;\n",
       "  justify-content: center;\n",
       "  background-color: var(--sklearn-color-background);\n",
       "  position: relative;\n",
       "}\n",
       "\n",
       "#sk-container-id-3 div.sk-parallel-item {\n",
       "  display: flex;\n",
       "  flex-direction: column;\n",
       "}\n",
       "\n",
       "#sk-container-id-3 div.sk-parallel-item:first-child::after {\n",
       "  align-self: flex-end;\n",
       "  width: 50%;\n",
       "}\n",
       "\n",
       "#sk-container-id-3 div.sk-parallel-item:last-child::after {\n",
       "  align-self: flex-start;\n",
       "  width: 50%;\n",
       "}\n",
       "\n",
       "#sk-container-id-3 div.sk-parallel-item:only-child::after {\n",
       "  width: 0;\n",
       "}\n",
       "\n",
       "/* Serial-specific style estimator block */\n",
       "\n",
       "#sk-container-id-3 div.sk-serial {\n",
       "  display: flex;\n",
       "  flex-direction: column;\n",
       "  align-items: center;\n",
       "  background-color: var(--sklearn-color-background);\n",
       "  padding-right: 1em;\n",
       "  padding-left: 1em;\n",
       "}\n",
       "\n",
       "\n",
       "/* Toggleable style: style used for estimator/Pipeline/ColumnTransformer box that is\n",
       "clickable and can be expanded/collapsed.\n",
       "- Pipeline and ColumnTransformer use this feature and define the default style\n",
       "- Estimators will overwrite some part of the style using the `sk-estimator` class\n",
       "*/\n",
       "\n",
       "/* Pipeline and ColumnTransformer style (default) */\n",
       "\n",
       "#sk-container-id-3 div.sk-toggleable {\n",
       "  /* Default theme specific background. It is overwritten whether we have a\n",
       "  specific estimator or a Pipeline/ColumnTransformer */\n",
       "  background-color: var(--sklearn-color-background);\n",
       "}\n",
       "\n",
       "/* Toggleable label */\n",
       "#sk-container-id-3 label.sk-toggleable__label {\n",
       "  cursor: pointer;\n",
       "  display: block;\n",
       "  width: 100%;\n",
       "  margin-bottom: 0;\n",
       "  padding: 0.5em;\n",
       "  box-sizing: border-box;\n",
       "  text-align: center;\n",
       "}\n",
       "\n",
       "#sk-container-id-3 label.sk-toggleable__label-arrow:before {\n",
       "  /* Arrow on the left of the label */\n",
       "  content: \"▸\";\n",
       "  float: left;\n",
       "  margin-right: 0.25em;\n",
       "  color: var(--sklearn-color-icon);\n",
       "}\n",
       "\n",
       "#sk-container-id-3 label.sk-toggleable__label-arrow:hover:before {\n",
       "  color: var(--sklearn-color-text);\n",
       "}\n",
       "\n",
       "/* Toggleable content - dropdown */\n",
       "\n",
       "#sk-container-id-3 div.sk-toggleable__content {\n",
       "  max-height: 0;\n",
       "  max-width: 0;\n",
       "  overflow: hidden;\n",
       "  text-align: left;\n",
       "  /* unfitted */\n",
       "  background-color: var(--sklearn-color-unfitted-level-0);\n",
       "}\n",
       "\n",
       "#sk-container-id-3 div.sk-toggleable__content.fitted {\n",
       "  /* fitted */\n",
       "  background-color: var(--sklearn-color-fitted-level-0);\n",
       "}\n",
       "\n",
       "#sk-container-id-3 div.sk-toggleable__content pre {\n",
       "  margin: 0.2em;\n",
       "  border-radius: 0.25em;\n",
       "  color: var(--sklearn-color-text);\n",
       "  /* unfitted */\n",
       "  background-color: var(--sklearn-color-unfitted-level-0);\n",
       "}\n",
       "\n",
       "#sk-container-id-3 div.sk-toggleable__content.fitted pre {\n",
       "  /* unfitted */\n",
       "  background-color: var(--sklearn-color-fitted-level-0);\n",
       "}\n",
       "\n",
       "#sk-container-id-3 input.sk-toggleable__control:checked~div.sk-toggleable__content {\n",
       "  /* Expand drop-down */\n",
       "  max-height: 200px;\n",
       "  max-width: 100%;\n",
       "  overflow: auto;\n",
       "}\n",
       "\n",
       "#sk-container-id-3 input.sk-toggleable__control:checked~label.sk-toggleable__label-arrow:before {\n",
       "  content: \"▾\";\n",
       "}\n",
       "\n",
       "/* Pipeline/ColumnTransformer-specific style */\n",
       "\n",
       "#sk-container-id-3 div.sk-label input.sk-toggleable__control:checked~label.sk-toggleable__label {\n",
       "  color: var(--sklearn-color-text);\n",
       "  background-color: var(--sklearn-color-unfitted-level-2);\n",
       "}\n",
       "\n",
       "#sk-container-id-3 div.sk-label.fitted input.sk-toggleable__control:checked~label.sk-toggleable__label {\n",
       "  background-color: var(--sklearn-color-fitted-level-2);\n",
       "}\n",
       "\n",
       "/* Estimator-specific style */\n",
       "\n",
       "/* Colorize estimator box */\n",
       "#sk-container-id-3 div.sk-estimator input.sk-toggleable__control:checked~label.sk-toggleable__label {\n",
       "  /* unfitted */\n",
       "  background-color: var(--sklearn-color-unfitted-level-2);\n",
       "}\n",
       "\n",
       "#sk-container-id-3 div.sk-estimator.fitted input.sk-toggleable__control:checked~label.sk-toggleable__label {\n",
       "  /* fitted */\n",
       "  background-color: var(--sklearn-color-fitted-level-2);\n",
       "}\n",
       "\n",
       "#sk-container-id-3 div.sk-label label.sk-toggleable__label,\n",
       "#sk-container-id-3 div.sk-label label {\n",
       "  /* The background is the default theme color */\n",
       "  color: var(--sklearn-color-text-on-default-background);\n",
       "}\n",
       "\n",
       "/* On hover, darken the color of the background */\n",
       "#sk-container-id-3 div.sk-label:hover label.sk-toggleable__label {\n",
       "  color: var(--sklearn-color-text);\n",
       "  background-color: var(--sklearn-color-unfitted-level-2);\n",
       "}\n",
       "\n",
       "/* Label box, darken color on hover, fitted */\n",
       "#sk-container-id-3 div.sk-label.fitted:hover label.sk-toggleable__label.fitted {\n",
       "  color: var(--sklearn-color-text);\n",
       "  background-color: var(--sklearn-color-fitted-level-2);\n",
       "}\n",
       "\n",
       "/* Estimator label */\n",
       "\n",
       "#sk-container-id-3 div.sk-label label {\n",
       "  font-family: monospace;\n",
       "  font-weight: bold;\n",
       "  display: inline-block;\n",
       "  line-height: 1.2em;\n",
       "}\n",
       "\n",
       "#sk-container-id-3 div.sk-label-container {\n",
       "  text-align: center;\n",
       "}\n",
       "\n",
       "/* Estimator-specific */\n",
       "#sk-container-id-3 div.sk-estimator {\n",
       "  font-family: monospace;\n",
       "  border: 1px dotted var(--sklearn-color-border-box);\n",
       "  border-radius: 0.25em;\n",
       "  box-sizing: border-box;\n",
       "  margin-bottom: 0.5em;\n",
       "  /* unfitted */\n",
       "  background-color: var(--sklearn-color-unfitted-level-0);\n",
       "}\n",
       "\n",
       "#sk-container-id-3 div.sk-estimator.fitted {\n",
       "  /* fitted */\n",
       "  background-color: var(--sklearn-color-fitted-level-0);\n",
       "}\n",
       "\n",
       "/* on hover */\n",
       "#sk-container-id-3 div.sk-estimator:hover {\n",
       "  /* unfitted */\n",
       "  background-color: var(--sklearn-color-unfitted-level-2);\n",
       "}\n",
       "\n",
       "#sk-container-id-3 div.sk-estimator.fitted:hover {\n",
       "  /* fitted */\n",
       "  background-color: var(--sklearn-color-fitted-level-2);\n",
       "}\n",
       "\n",
       "/* Specification for estimator info (e.g. \"i\" and \"?\") */\n",
       "\n",
       "/* Common style for \"i\" and \"?\" */\n",
       "\n",
       ".sk-estimator-doc-link,\n",
       "a:link.sk-estimator-doc-link,\n",
       "a:visited.sk-estimator-doc-link {\n",
       "  float: right;\n",
       "  font-size: smaller;\n",
       "  line-height: 1em;\n",
       "  font-family: monospace;\n",
       "  background-color: var(--sklearn-color-background);\n",
       "  border-radius: 1em;\n",
       "  height: 1em;\n",
       "  width: 1em;\n",
       "  text-decoration: none !important;\n",
       "  margin-left: 1ex;\n",
       "  /* unfitted */\n",
       "  border: var(--sklearn-color-unfitted-level-1) 1pt solid;\n",
       "  color: var(--sklearn-color-unfitted-level-1);\n",
       "}\n",
       "\n",
       ".sk-estimator-doc-link.fitted,\n",
       "a:link.sk-estimator-doc-link.fitted,\n",
       "a:visited.sk-estimator-doc-link.fitted {\n",
       "  /* fitted */\n",
       "  border: var(--sklearn-color-fitted-level-1) 1pt solid;\n",
       "  color: var(--sklearn-color-fitted-level-1);\n",
       "}\n",
       "\n",
       "/* On hover */\n",
       "div.sk-estimator:hover .sk-estimator-doc-link:hover,\n",
       ".sk-estimator-doc-link:hover,\n",
       "div.sk-label-container:hover .sk-estimator-doc-link:hover,\n",
       ".sk-estimator-doc-link:hover {\n",
       "  /* unfitted */\n",
       "  background-color: var(--sklearn-color-unfitted-level-3);\n",
       "  color: var(--sklearn-color-background);\n",
       "  text-decoration: none;\n",
       "}\n",
       "\n",
       "div.sk-estimator.fitted:hover .sk-estimator-doc-link.fitted:hover,\n",
       ".sk-estimator-doc-link.fitted:hover,\n",
       "div.sk-label-container:hover .sk-estimator-doc-link.fitted:hover,\n",
       ".sk-estimator-doc-link.fitted:hover {\n",
       "  /* fitted */\n",
       "  background-color: var(--sklearn-color-fitted-level-3);\n",
       "  color: var(--sklearn-color-background);\n",
       "  text-decoration: none;\n",
       "}\n",
       "\n",
       "/* Span, style for the box shown on hovering the info icon */\n",
       ".sk-estimator-doc-link span {\n",
       "  display: none;\n",
       "  z-index: 9999;\n",
       "  position: relative;\n",
       "  font-weight: normal;\n",
       "  right: .2ex;\n",
       "  padding: .5ex;\n",
       "  margin: .5ex;\n",
       "  width: min-content;\n",
       "  min-width: 20ex;\n",
       "  max-width: 50ex;\n",
       "  color: var(--sklearn-color-text);\n",
       "  box-shadow: 2pt 2pt 4pt #999;\n",
       "  /* unfitted */\n",
       "  background: var(--sklearn-color-unfitted-level-0);\n",
       "  border: .5pt solid var(--sklearn-color-unfitted-level-3);\n",
       "}\n",
       "\n",
       ".sk-estimator-doc-link.fitted span {\n",
       "  /* fitted */\n",
       "  background: var(--sklearn-color-fitted-level-0);\n",
       "  border: var(--sklearn-color-fitted-level-3);\n",
       "}\n",
       "\n",
       ".sk-estimator-doc-link:hover span {\n",
       "  display: block;\n",
       "}\n",
       "\n",
       "/* \"?\"-specific style due to the `<a>` HTML tag */\n",
       "\n",
       "#sk-container-id-3 a.estimator_doc_link {\n",
       "  float: right;\n",
       "  font-size: 1rem;\n",
       "  line-height: 1em;\n",
       "  font-family: monospace;\n",
       "  background-color: var(--sklearn-color-background);\n",
       "  border-radius: 1rem;\n",
       "  height: 1rem;\n",
       "  width: 1rem;\n",
       "  text-decoration: none;\n",
       "  /* unfitted */\n",
       "  color: var(--sklearn-color-unfitted-level-1);\n",
       "  border: var(--sklearn-color-unfitted-level-1) 1pt solid;\n",
       "}\n",
       "\n",
       "#sk-container-id-3 a.estimator_doc_link.fitted {\n",
       "  /* fitted */\n",
       "  border: var(--sklearn-color-fitted-level-1) 1pt solid;\n",
       "  color: var(--sklearn-color-fitted-level-1);\n",
       "}\n",
       "\n",
       "/* On hover */\n",
       "#sk-container-id-3 a.estimator_doc_link:hover {\n",
       "  /* unfitted */\n",
       "  background-color: var(--sklearn-color-unfitted-level-3);\n",
       "  color: var(--sklearn-color-background);\n",
       "  text-decoration: none;\n",
       "}\n",
       "\n",
       "#sk-container-id-3 a.estimator_doc_link.fitted:hover {\n",
       "  /* fitted */\n",
       "  background-color: var(--sklearn-color-fitted-level-3);\n",
       "}\n",
       "</style><div id=\"sk-container-id-3\" class=\"sk-top-container\"><div class=\"sk-text-repr-fallback\"><pre>Perceptron(eta0=0.1, max_iter=100, random_state=42)</pre><b>In a Jupyter environment, please rerun this cell to show the HTML representation or trust the notebook. <br />On GitHub, the HTML representation is unable to render, please try loading this page with nbviewer.org.</b></div><div class=\"sk-container\" hidden><div class=\"sk-item\"><div class=\"sk-estimator fitted sk-toggleable\"><input class=\"sk-toggleable__control sk-hidden--visually\" id=\"sk-estimator-id-3\" type=\"checkbox\" checked><label for=\"sk-estimator-id-3\" class=\"sk-toggleable__label fitted sk-toggleable__label-arrow fitted\">&nbsp;&nbsp;Perceptron<a class=\"sk-estimator-doc-link fitted\" rel=\"noreferrer\" target=\"_blank\" href=\"https://scikit-learn.org/1.5/modules/generated/sklearn.linear_model.Perceptron.html\">?<span>Documentation for Perceptron</span></a><span class=\"sk-estimator-doc-link fitted\">i<span>Fitted</span></span></label><div class=\"sk-toggleable__content fitted\"><pre>Perceptron(eta0=0.1, max_iter=100, random_state=42)</pre></div> </div></div></div></div>"
      ],
      "text/plain": [
       "Perceptron(eta0=0.1, max_iter=100, random_state=42)"
      ]
     },
     "execution_count": 34,
     "metadata": {},
     "output_type": "execute_result"
    }
   ],
   "source": [
    "from sklearn.linear_model import Perceptron\n",
    "\n",
    "# clf = TODO\n",
    "\n",
    "clf = Perceptron(random_state=42, max_iter=1000, alpha=0.0001, eta0=0.1, tol=1e-3)\n",
    "clf.fit(X_train, y_train)\n",
    "\n"
   ]
  },
  {
   "cell_type": "code",
   "execution_count": 35,
   "metadata": {},
   "outputs": [
    {
     "data": {
      "text/plain": [
       "(10, 784)"
      ]
     },
     "execution_count": 35,
     "metadata": {},
     "output_type": "execute_result"
    }
   ],
   "source": [
    "# Número de parámetros que forman el modelo\n",
    "clf.coef_.shape"
   ]
  },
  {
   "cell_type": "code",
   "execution_count": 36,
   "metadata": {},
   "outputs": [
    {
     "data": {
      "text/plain": [
       "array([-135.3,  -46.9, -163. , -346.6,  -92.2,  206.2, -171.5,  -35.9,\n",
       "       -872.2, -202.7])"
      ]
     },
     "execution_count": 36,
     "metadata": {},
     "output_type": "execute_result"
    }
   ],
   "source": [
    "# Parámetros bias/intercept\n",
    "clf.intercept_"
   ]
  },
  {
   "cell_type": "markdown",
   "metadata": {},
   "source": [
    "## 5. Predicción con el conjunto de pruebas"
   ]
  },
  {
   "cell_type": "code",
   "execution_count": 37,
   "metadata": {},
   "outputs": [],
   "source": [
    "# Realizamos la predicción con el conjunto de datos de prueba\n",
    "#y_pred = TODO\n",
    "\n",
    "y_pred = clf.predict(X_test)"
   ]
  },
  {
   "cell_type": "code",
   "execution_count": 38,
   "metadata": {},
   "outputs": [
    {
     "data": {
      "text/plain": [
       "14000"
      ]
     },
     "execution_count": 38,
     "metadata": {},
     "output_type": "execute_result"
    }
   ],
   "source": [
    "len(y_test)"
   ]
  },
  {
   "cell_type": "code",
   "execution_count": 39,
   "metadata": {},
   "outputs": [
    {
     "name": "stdout",
     "output_type": "stream",
     "text": [
      "F1 Score del modelo en el conjunto de prueba: 0.8646109180743257\n"
     ]
    }
   ],
   "source": [
    "# Mostramos el f1_score resultante de la clasificación\n",
    "from sklearn.metrics import f1_score\n",
    "\n",
    "# TODO\n",
    "# Previo: F1 Score del modelo en el conjunto de prueba: 0.8646109180743257\n",
    "\n",
    "f1 = f1_score(y_test, y_pred, average='weighted')\n",
    "print(\"F1 Score del modelo en el conjunto de prueba:\", f1)"
   ]
  },
  {
   "cell_type": "markdown",
   "metadata": {},
   "source": [
    "## 6. Mostrando las imagenes mal clasificadas"
   ]
  },
  {
   "cell_type": "code",
   "execution_count": 40,
   "metadata": {},
   "outputs": [],
   "source": [
    "import numpy as np\n",
    "import matplotlib.pyplot as plt\n",
    "\n",
    "index = 0\n",
    "index_errors = []\n",
    "\n",
    "for label, predict in zip(y_test, y_pred):\n",
    "    if label != predict:\n",
    "        index_errors.append(index)\n",
    "    index += 1"
   ]
  },
  {
   "cell_type": "code",
   "execution_count": 41,
   "metadata": {},
   "outputs": [
    {
     "data": {
      "image/png": "[encoded data removed]",
      "text/plain": [
       "<Figure size 2000x400 with 8 Axes>"
      ]
     },
     "metadata": {},
     "output_type": "display_data"
    }
   ],
   "source": [
    "import numpy as np\n",
    "import matplotlib.pyplot as plt\n",
    "\n",
    "plt.figure(figsize=(20, 4))\n",
    "\n",
    "for i, img_index in zip(range(1, 9), index_errors[8:16]):\n",
    "    #TODO\n",
    "    ax = plt.subplot(1, 8, i)\n",
    "    \n",
    "    # Seleccionamos la imagen correspondiente al índice del error\n",
    "    img = X_test.iloc[img_index].values.reshape(28, 28)  # Redimensionamos la imagen\n",
    "    \n",
    "    # Mostramos la imagen en escala de grises\n",
    "    ax.imshow(img, cmap='gray')\n",
    "    \n",
    "    # Etiquetas verdadera y predicha\n",
    "    true_label = y_test.iloc[img_index]\n",
    "    pred_label = y_pred[img_index]\n",
    "    \n",
    "    # Configuramos el título con la etiqueta real y la predicha\n",
    "    ax.set_title(f\"True: {true_label}\\nPred: {pred_label}\", fontsize=10)\n",
    "    ax.axis('off')  # Ocultamos los ejes\n",
    "\n",
    "plt.show()"
   ]
  },
  {
   "cell_type": "code",
   "execution_count": 42,
   "metadata": {},
   "outputs": [
    {
     "name": "stdout",
     "output_type": "stream",
     "text": [
      "Mejores hiperparámetros: {'alpha': 0.0001, 'eta0': 0.1, 'max_iter': 1000}\n"
     ]
    }
   ],
   "source": [
    "# Grid\n",
    "\n",
    "from sklearn.model_selection import GridSearchCV\n",
    "from sklearn.preprocessing import StandardScaler\n",
    "\n",
    "# Escalamos los datos\n",
    "scaler = StandardScaler()\n",
    "X_train_scaled = scaler.fit_transform(X_train)\n",
    "X_test_scaled = scaler.transform(X_test)\n",
    "\n",
    "param_grid = {\n",
    "    'alpha': [0.0001, 0.001, 0.01],\n",
    "    'max_iter': [1000, 2000, 3000],\n",
    "    'eta0': [0.1, 1.0, 10.0]\n",
    "}\n",
    "\n",
    "grid_search = GridSearchCV(Perceptron(random_state=42), param_grid, cv=5, scoring='f1_weighted')\n",
    "grid_search.fit(X_train_scaled, y_train)\n",
    "print(\"Mejores hiperparámetros:\", grid_search.best_params_)\n"
   ]
  },
  {
   "cell_type": "code",
   "execution_count": null,
   "metadata": {},
   "outputs": [
    {
     "name": "stdout",
     "output_type": "stream",
     "text": [
      "F1 Score del modelo en el conjunto de prueba: 0.86704016293269\n"
     ]
    },
    {
     "name": "stderr",
     "output_type": "stream",
     "text": [
      "c:\\Users\\David\\anaconda3\\envs\\aprendizaje_auto_i\\Lib\\site-packages\\sklearn\\linear_model\\_stochastic_gradient.py:744: ConvergenceWarning: Maximum number of iteration reached before convergence. Consider increasing max_iter to improve the fit.\n",
      "  warnings.warn(\n"
     ]
    }
   ],
   "source": [
    "best_params1 = Perceptron(random_state=42, alpha=0.0001, eta0= 0.1, max_iter=1000)\n",
    "best_params1.fit(X_train, y_train)\n",
    "y_pred = best_params1.predict(X_test)\n",
    "f1 = f1_score(y_test, y_pred, average='weighted')\n",
    "print(\"F1 Score del modelo en el conjunto de prueba:\", f1)"
   ]
  },
  {
   "cell_type": "markdown",
   "metadata": {},
   "source": [
    "Con optuna"
   ]
  },
  {
   "cell_type": "code",
   "execution_count": 43,
   "metadata": {},
   "outputs": [
    {
     "name": "stdout",
     "output_type": "stream",
     "text": [
      "Collecting optuna\n",
      "  Downloading optuna-4.1.0-py3-none-any.whl.metadata (16 kB)\n",
      "Collecting alembic>=1.5.0 (from optuna)\n",
      "  Downloading alembic-1.14.0-py3-none-any.whl.metadata (7.4 kB)\n",
      "Collecting colorlog (from optuna)\n",
      "  Downloading colorlog-6.9.0-py3-none-any.whl.metadata (10 kB)\n",
      "Requirement already satisfied: numpy in c:\\users\\david\\anaconda3\\envs\\aprendizaje_auto_i\\lib\\site-packages (from optuna) (2.1.1)\n",
      "Requirement already satisfied: packaging>=20.0 in c:\\users\\david\\anaconda3\\envs\\aprendizaje_auto_i\\lib\\site-packages (from optuna) (24.1)\n",
      "Collecting sqlalchemy>=1.4.2 (from optuna)\n",
      "  Downloading SQLAlchemy-2.0.36-cp312-cp312-win_amd64.whl.metadata (9.9 kB)\n",
      "Requirement already satisfied: tqdm in c:\\users\\david\\anaconda3\\envs\\aprendizaje_auto_i\\lib\\site-packages (from optuna) (4.66.6)\n",
      "Requirement already satisfied: PyYAML in c:\\users\\david\\anaconda3\\envs\\aprendizaje_auto_i\\lib\\site-packages (from optuna) (6.0.2)\n",
      "Collecting Mako (from alembic>=1.5.0->optuna)\n",
      "  Downloading Mako-1.3.6-py3-none-any.whl.metadata (2.9 kB)\n",
      "Requirement already satisfied: typing-extensions>=4 in c:\\users\\david\\anaconda3\\envs\\aprendizaje_auto_i\\lib\\site-packages (from alembic>=1.5.0->optuna) (4.11.0)\n",
      "Collecting greenlet!=0.4.17 (from sqlalchemy>=1.4.2->optuna)\n",
      "  Downloading greenlet-3.1.1-cp312-cp312-win_amd64.whl.metadata (3.9 kB)\n",
      "Requirement already satisfied: colorama in c:\\users\\david\\anaconda3\\envs\\aprendizaje_auto_i\\lib\\site-packages (from colorlog->optuna) (0.4.6)\n",
      "Requirement already satisfied: MarkupSafe>=0.9.2 in c:\\users\\david\\anaconda3\\envs\\aprendizaje_auto_i\\lib\\site-packages (from Mako->alembic>=1.5.0->optuna) (2.1.3)\n",
      "Downloading optuna-4.1.0-py3-none-any.whl (364 kB)\n",
      "Downloading alembic-1.14.0-py3-none-any.whl (233 kB)\n",
      "Downloading SQLAlchemy-2.0.36-cp312-cp312-win_amd64.whl (2.1 MB)\n",
      "   ---------------------------------------- 0.0/2.1 MB ? eta -:--:--\n",
      "   ---------------------------------------- 2.1/2.1 MB 13.0 MB/s eta 0:00:00\n",
      "Downloading colorlog-6.9.0-py3-none-any.whl (11 kB)\n",
      "Downloading greenlet-3.1.1-cp312-cp312-win_amd64.whl (299 kB)\n",
      "Downloading Mako-1.3.6-py3-none-any.whl (78 kB)\n",
      "Installing collected packages: Mako, greenlet, colorlog, sqlalchemy, alembic, optuna\n",
      "Successfully installed Mako-1.3.6 alembic-1.14.0 colorlog-6.9.0 greenlet-3.1.1 optuna-4.1.0 sqlalchemy-2.0.36\n"
     ]
    },
    {
     "name": "stderr",
     "output_type": "stream",
     "text": [
      "c:\\Users\\David\\anaconda3\\envs\\aprendizaje_auto_i\\Lib\\site-packages\\tqdm\\auto.py:21: TqdmWarning: IProgress not found. Please update jupyter and ipywidgets. See https://ipywidgets.readthedocs.io/en/stable/user_install.html\n",
      "  from .autonotebook import tqdm as notebook_tqdm\n"
     ]
    }
   ],
   "source": [
    "!pip install optuna\n",
    "\n",
    "import optuna"
   ]
  },
  {
   "cell_type": "code",
   "execution_count": 70,
   "metadata": {},
   "outputs": [],
   "source": [
    "def objective(trial):\n",
    "    # Hiperparámetros a optimizar\n",
    "    alpha = trial.suggest_float('alpha', 1e-5, 1e-1, log=True)                          # Usamos suggest_float con log=True\n",
    "    eta0 = trial.suggest_float('eta0', 1e-3, 1, log=True)                               # Usamos suggest_float con log=True\n",
    "    max_iter = trial.suggest_int('max_iter', 1000, 10000)                               # número de iteraciones\n",
    "    tol = trial.suggest_float('tol', 1e-6, 1e-3, log=True)                              # Usamos suggest_float con log=True\n",
    "    penalty = trial.suggest_categorical('penalty', ['l2', 'l1', 'elasticnet'])          # Tipo de penalización\n",
    "    early_stopping = trial.suggest_categorical('early_stopping', [True, False])         # Si detener entrenamiento temprano\n",
    "    n_iter_no_change = trial.suggest_int('n_iter_no_change', 5, 20)                     # Iteraciones sin mejora antes de detenerse\n",
    "    warm_start = trial.suggest_categorical('warm_start', [True, False])                 # Reutilizar solución anterior\n",
    "    class_weight = trial.suggest_categorical('class_weight', [None, 'balanced'])        # Peso de clases (balanceadas)\n",
    "\n",
    "    # Creamos el modelo Perceptron\n",
    "    clf = Perceptron(\n",
    "        alpha=alpha, \n",
    "        eta0=eta0, \n",
    "        max_iter=max_iter, \n",
    "        tol=tol, \n",
    "        penalty=penalty,\n",
    "        early_stopping=early_stopping,\n",
    "        n_iter_no_change=n_iter_no_change,\n",
    "        warm_start=warm_start,\n",
    "        class_weight=class_weight,\n",
    "        random_state=10\n",
    "    )\n",
    "\n",
    "    # Escalamos los datos\n",
    "    scaler = StandardScaler()\n",
    "    X_train_scaled = scaler.fit_transform(X_train)\n",
    "    X_test_scaled = scaler.transform(X_test)\n",
    "\n",
    "    # Entrenamos el modelo\n",
    "    clf.fit(X_train_scaled, y_train)\n",
    "\n",
    "    # Predicciones y cálculo del F1-score\n",
    "    y_pred = clf.predict(X_test_scaled)\n",
    "    f1 = f1_score(y_test, y_pred, average='weighted')\n",
    "\n",
    "    return f1\n",
    "\n"
   ]
  },
  {
   "cell_type": "code",
   "execution_count": 71,
   "metadata": {},
   "outputs": [
    {
     "name": "stderr",
     "output_type": "stream",
     "text": [
      "[I 2024-11-12 17:19:45,909] A new study created in memory with name: no-name-8d144671-15da-43bd-8994-b0b0e39bc0d5\n",
      "[I 2024-11-12 17:20:13,877] Trial 0 finished with value: 0.8541725697289746 and parameters: {'alpha': 0.0005831852759206501, 'eta0': 0.03471845709621286, 'max_iter': 4080, 'tol': 8.75814650647304e-05, 'penalty': 'l1', 'early_stopping': True, 'n_iter_no_change': 18, 'warm_start': True, 'class_weight': 'balanced'}. Best is trial 0 with value: 0.8541725697289746.\n",
      "[I 2024-11-12 17:20:49,822] Trial 1 finished with value: 0.6424962789798339 and parameters: {'alpha': 0.01170796472152016, 'eta0': 0.15761060717883854, 'max_iter': 8915, 'tol': 0.0006287231540598871, 'penalty': 'l1', 'early_stopping': False, 'n_iter_no_change': 20, 'warm_start': False, 'class_weight': 'balanced'}. Best is trial 0 with value: 0.8541725697289746.\n",
      "[I 2024-11-12 17:21:35,407] Trial 2 finished with value: 0.8642352279410425 and parameters: {'alpha': 0.00018570175140333935, 'eta0': 0.02159105416030176, 'max_iter': 5690, 'tol': 6.170228037015302e-05, 'penalty': 'l1', 'early_stopping': False, 'n_iter_no_change': 19, 'warm_start': True, 'class_weight': None}. Best is trial 2 with value: 0.8642352279410425.\n",
      "[I 2024-11-12 17:21:49,687] Trial 3 finished with value: 0.7444803424930051 and parameters: {'alpha': 0.0022801648104367085, 'eta0': 0.5425299955383303, 'max_iter': 2346, 'tol': 1.2873571220153061e-06, 'penalty': 'l2', 'early_stopping': False, 'n_iter_no_change': 15, 'warm_start': True, 'class_weight': None}. Best is trial 2 with value: 0.8642352279410425.\n",
      "[I 2024-11-12 17:22:13,469] Trial 4 finished with value: 0.747735528595516 and parameters: {'alpha': 0.00497463842790759, 'eta0': 0.0016261836105724353, 'max_iter': 2231, 'tol': 2.0087562608164167e-05, 'penalty': 'l1', 'early_stopping': True, 'n_iter_no_change': 14, 'warm_start': False, 'class_weight': None}. Best is trial 2 with value: 0.8642352279410425.\n",
      "[I 2024-11-12 17:22:38,787] Trial 5 finished with value: 0.6382585777196776 and parameters: {'alpha': 0.08361860648872088, 'eta0': 0.16251984668667407, 'max_iter': 3447, 'tol': 6.128503291384721e-06, 'penalty': 'elasticnet', 'early_stopping': True, 'n_iter_no_change': 13, 'warm_start': True, 'class_weight': None}. Best is trial 2 with value: 0.8642352279410425.\n",
      "[I 2024-11-12 17:22:57,939] Trial 6 finished with value: 0.8483270903060975 and parameters: {'alpha': 0.0014797677663463326, 'eta0': 0.0667581821542509, 'max_iter': 8653, 'tol': 0.00011625626964226284, 'penalty': 'l2', 'early_stopping': False, 'n_iter_no_change': 18, 'warm_start': False, 'class_weight': None}. Best is trial 2 with value: 0.8642352279410425.\n",
      "[I 2024-11-12 17:23:41,074] Trial 7 finished with value: 0.8611135009486548 and parameters: {'alpha': 0.00034498703946539953, 'eta0': 0.022727783066080136, 'max_iter': 8303, 'tol': 0.00039432252084030183, 'penalty': 'l1', 'early_stopping': False, 'n_iter_no_change': 18, 'warm_start': True, 'class_weight': None}. Best is trial 2 with value: 0.8642352279410425.\n",
      "[I 2024-11-12 17:24:00,379] Trial 8 finished with value: 0.8483945077605646 and parameters: {'alpha': 0.004367831875570193, 'eta0': 0.03684998993373925, 'max_iter': 5016, 'tol': 4.164762325450261e-06, 'penalty': 'l2', 'early_stopping': True, 'n_iter_no_change': 12, 'warm_start': False, 'class_weight': 'balanced'}. Best is trial 2 with value: 0.8642352279410425.\n",
      "[I 2024-11-12 17:24:16,445] Trial 9 finished with value: 0.8666332108803951 and parameters: {'alpha': 0.0003935463176065955, 'eta0': 0.0016739062119162803, 'max_iter': 3639, 'tol': 2.004750542669865e-05, 'penalty': 'l1', 'early_stopping': True, 'n_iter_no_change': 9, 'warm_start': False, 'class_weight': 'balanced'}. Best is trial 9 with value: 0.8666332108803951.\n",
      "[I 2024-11-12 17:24:34,763] Trial 10 finished with value: 0.8772839496931176 and parameters: {'alpha': 2.301571359153331e-05, 'eta0': 0.001081959429439007, 'max_iter': 6911, 'tol': 1.5733208379382976e-05, 'penalty': 'elasticnet', 'early_stopping': True, 'n_iter_no_change': 6, 'warm_start': False, 'class_weight': 'balanced'}. Best is trial 10 with value: 0.8772839496931176.\n",
      "[I 2024-11-12 17:24:52,127] Trial 11 finished with value: 0.8854487054535763 and parameters: {'alpha': 4.850784069586979e-05, 'eta0': 0.0012701740954524344, 'max_iter': 6696, 'tol': 1.5654467509246623e-05, 'penalty': 'elasticnet', 'early_stopping': True, 'n_iter_no_change': 6, 'warm_start': False, 'class_weight': 'balanced'}. Best is trial 11 with value: 0.8854487054535763.\n",
      "[I 2024-11-12 17:25:07,752] Trial 12 finished with value: 0.875449067379189 and parameters: {'alpha': 1.0489779374791684e-05, 'eta0': 0.006648896189750117, 'max_iter': 6796, 'tol': 6.07607951647601e-06, 'penalty': 'elasticnet', 'early_stopping': True, 'n_iter_no_change': 5, 'warm_start': False, 'class_weight': 'balanced'}. Best is trial 11 with value: 0.8854487054535763.\n",
      "[I 2024-11-12 17:25:20,382] Trial 13 finished with value: 0.8715131273514759 and parameters: {'alpha': 2.080929808521918e-05, 'eta0': 0.004347536489491592, 'max_iter': 6772, 'tol': 1.4913469711813172e-05, 'penalty': 'elasticnet', 'early_stopping': True, 'n_iter_no_change': 5, 'warm_start': False, 'class_weight': 'balanced'}. Best is trial 11 with value: 0.8854487054535763.\n",
      "[I 2024-11-12 17:25:41,182] Trial 14 finished with value: 0.8739991919481471 and parameters: {'alpha': 6.495017990215983e-05, 'eta0': 0.0010047942197590897, 'max_iter': 6965, 'tol': 2.1487029069448547e-06, 'penalty': 'elasticnet', 'early_stopping': True, 'n_iter_no_change': 8, 'warm_start': False, 'class_weight': 'balanced'}. Best is trial 11 with value: 0.8854487054535763.\n",
      "[I 2024-11-12 17:25:58,205] Trial 15 finished with value: 0.8806866170937957 and parameters: {'alpha': 4.7216218439450965e-05, 'eta0': 0.005315007126306948, 'max_iter': 7707, 'tol': 4.080633262225309e-05, 'penalty': 'elasticnet', 'early_stopping': True, 'n_iter_no_change': 8, 'warm_start': False, 'class_weight': 'balanced'}. Best is trial 11 with value: 0.8854487054535763.\n",
      "[I 2024-11-12 17:26:16,462] Trial 16 finished with value: 0.8847725242891276 and parameters: {'alpha': 9.026357820074551e-05, 'eta0': 0.0045532363367149446, 'max_iter': 7727, 'tol': 4.70389390649546e-05, 'penalty': 'elasticnet', 'early_stopping': True, 'n_iter_no_change': 10, 'warm_start': False, 'class_weight': 'balanced'}. Best is trial 11 with value: 0.8854487054535763.\n",
      "[I 2024-11-12 17:26:31,813] Trial 17 finished with value: 0.8869115783358854 and parameters: {'alpha': 0.00010257535508989511, 'eta0': 0.01001594510802597, 'max_iter': 9607, 'tol': 0.00015692308271505586, 'penalty': 'elasticnet', 'early_stopping': True, 'n_iter_no_change': 10, 'warm_start': False, 'class_weight': 'balanced'}. Best is trial 17 with value: 0.8869115783358854.\n",
      "[I 2024-11-12 17:26:47,302] Trial 18 finished with value: 0.8738095772560942 and parameters: {'alpha': 0.00013636044287381371, 'eta0': 0.01345073234402432, 'max_iter': 9834, 'tol': 0.00019395223741368187, 'penalty': 'elasticnet', 'early_stopping': True, 'n_iter_no_change': 11, 'warm_start': False, 'class_weight': 'balanced'}. Best is trial 17 with value: 0.8869115783358854.\n",
      "[I 2024-11-12 17:27:00,987] Trial 19 finished with value: 0.8844130116814204 and parameters: {'alpha': 2.902508482454563e-05, 'eta0': 0.010530872161444231, 'max_iter': 9510, 'tol': 0.00027150322533277336, 'penalty': 'elasticnet', 'early_stopping': True, 'n_iter_no_change': 7, 'warm_start': False, 'class_weight': 'balanced'}. Best is trial 17 with value: 0.8869115783358854.\n",
      "[I 2024-11-12 17:27:17,140] Trial 20 finished with value: 0.8829011266947404 and parameters: {'alpha': 0.00014750813375215459, 'eta0': 0.0025026537238021355, 'max_iter': 6078, 'tol': 0.0007562608734488007, 'penalty': 'elasticnet', 'early_stopping': True, 'n_iter_no_change': 10, 'warm_start': False, 'class_weight': 'balanced'}. Best is trial 17 with value: 0.8869115783358854.\n",
      "[I 2024-11-12 17:27:33,878] Trial 21 finished with value: 0.8839359267751697 and parameters: {'alpha': 9.503804115355826e-05, 'eta0': 0.002863639361568245, 'max_iter': 7892, 'tol': 3.898395398627741e-05, 'penalty': 'elasticnet', 'early_stopping': True, 'n_iter_no_change': 10, 'warm_start': False, 'class_weight': 'balanced'}. Best is trial 17 with value: 0.8869115783358854.\n",
      "[I 2024-11-12 17:27:51,331] Trial 22 finished with value: 0.878911502028689 and parameters: {'alpha': 1.155220756331825e-05, 'eta0': 0.00886219091670032, 'max_iter': 9128, 'tol': 0.00015819675399908703, 'penalty': 'elasticnet', 'early_stopping': True, 'n_iter_no_change': 7, 'warm_start': False, 'class_weight': 'balanced'}. Best is trial 17 with value: 0.8869115783358854.\n",
      "[I 2024-11-12 17:28:20,440] Trial 23 finished with value: 0.8816294064882505 and parameters: {'alpha': 4.868761778598837e-05, 'eta0': 0.003895006282804578, 'max_iter': 7909, 'tol': 6.397338270615903e-05, 'penalty': 'elasticnet', 'early_stopping': True, 'n_iter_no_change': 16, 'warm_start': False, 'class_weight': 'balanced'}. Best is trial 17 with value: 0.8869115783358854.\n",
      "[I 2024-11-12 17:28:36,513] Trial 24 finished with value: 0.8873846556649306 and parameters: {'alpha': 0.0002334102052122956, 'eta0': 0.0023649410790982754, 'max_iter': 5206, 'tol': 2.7715605911242876e-05, 'penalty': 'elasticnet', 'early_stopping': True, 'n_iter_no_change': 10, 'warm_start': False, 'class_weight': 'balanced'}. Best is trial 24 with value: 0.8873846556649306.\n",
      "[I 2024-11-12 17:28:45,188] Trial 25 finished with value: 0.8759081443820894 and parameters: {'alpha': 0.0005818111788583309, 'eta0': 0.0015992129442835277, 'max_iter': 4846, 'tol': 9.588096122464892e-06, 'penalty': 'l2', 'early_stopping': True, 'n_iter_no_change': 12, 'warm_start': False, 'class_weight': 'balanced'}. Best is trial 24 with value: 0.8873846556649306.\n",
      "[I 2024-11-12 17:29:25,668] Trial 26 finished with value: 0.8794313653638695 and parameters: {'alpha': 0.00023890587049531643, 'eta0': 0.0027328962772813206, 'max_iter': 1082, 'tol': 3.060384958201247e-05, 'penalty': 'elasticnet', 'early_stopping': False, 'n_iter_no_change': 8, 'warm_start': True, 'class_weight': 'balanced'}. Best is trial 24 with value: 0.8873846556649306.\n",
      "[I 2024-11-12 17:29:39,533] Trial 27 finished with value: 0.8699953816667625 and parameters: {'alpha': 0.0007132776802730648, 'eta0': 0.015450628521153508, 'max_iter': 4595, 'tol': 1.032494978260574e-05, 'penalty': 'elasticnet', 'early_stopping': True, 'n_iter_no_change': 11, 'warm_start': False, 'class_weight': 'balanced'}. Best is trial 24 with value: 0.8873846556649306.\n",
      "[I 2024-11-12 17:29:52,342] Trial 28 finished with value: 0.8800699132130227 and parameters: {'alpha': 3.234725931951951e-05, 'eta0': 0.007209132926446475, 'max_iter': 6072, 'tol': 3.0168527075263182e-05, 'penalty': 'elasticnet', 'early_stopping': True, 'n_iter_no_change': 6, 'warm_start': False, 'class_weight': 'balanced'}. Best is trial 24 with value: 0.8873846556649306.\n",
      "[I 2024-11-12 17:30:05,469] Trial 29 finished with value: 0.8489215038995552 and parameters: {'alpha': 0.0012871782849470665, 'eta0': 0.04748162862506007, 'max_iter': 4187, 'tol': 8.137296490448439e-05, 'penalty': 'l2', 'early_stopping': True, 'n_iter_no_change': 16, 'warm_start': True, 'class_weight': 'balanced'}. Best is trial 24 with value: 0.8873846556649306.\n",
      "[I 2024-11-12 17:30:19,141] Trial 30 finished with value: 0.8822682263288022 and parameters: {'alpha': 0.000339580808433706, 'eta0': 0.002158389206771661, 'max_iter': 5368, 'tol': 0.00010918539113947657, 'penalty': 'elasticnet', 'early_stopping': True, 'n_iter_no_change': 9, 'warm_start': False, 'class_weight': 'balanced'}. Best is trial 24 with value: 0.8873846556649306.\n",
      "[I 2024-11-12 17:30:35,915] Trial 31 finished with value: 0.8811079198006687 and parameters: {'alpha': 8.28899620266652e-05, 'eta0': 0.0037850547093520783, 'max_iter': 7466, 'tol': 6.183110872755529e-05, 'penalty': 'elasticnet', 'early_stopping': True, 'n_iter_no_change': 10, 'warm_start': False, 'class_weight': 'balanced'}. Best is trial 24 with value: 0.8873846556649306.\n",
      "[I 2024-11-12 17:30:55,300] Trial 32 finished with value: 0.8811608252658675 and parameters: {'alpha': 0.0001254019740768471, 'eta0': 0.004964068439241733, 'max_iter': 6337, 'tol': 2.578529070103531e-05, 'penalty': 'elasticnet', 'early_stopping': True, 'n_iter_no_change': 13, 'warm_start': False, 'class_weight': 'balanced'}. Best is trial 24 with value: 0.8873846556649306.\n",
      "[I 2024-11-12 17:31:14,531] Trial 33 finished with value: 0.8818250891179245 and parameters: {'alpha': 0.0002057490791260145, 'eta0': 0.0013875801725112874, 'max_iter': 9988, 'tol': 4.675121908007096e-05, 'penalty': 'elasticnet', 'early_stopping': True, 'n_iter_no_change': 11, 'warm_start': False, 'class_weight': 'balanced'}. Best is trial 24 with value: 0.8873846556649306.\n",
      "[I 2024-11-12 17:32:00,527] Trial 34 finished with value: 0.8875193668125676 and parameters: {'alpha': 6.592444929090782e-05, 'eta0': 0.0033060171932333985, 'max_iter': 8647, 'tol': 0.0004539642743849618, 'penalty': 'elasticnet', 'early_stopping': False, 'n_iter_no_change': 9, 'warm_start': False, 'class_weight': 'balanced'}. Best is trial 34 with value: 0.8875193668125676.\n",
      "[I 2024-11-12 17:32:46,641] Trial 35 finished with value: 0.8730755643913095 and parameters: {'alpha': 1.625595920208624e-05, 'eta0': 0.7024565236318772, 'max_iter': 9051, 'tol': 0.00042056297502712347, 'penalty': 'l1', 'early_stopping': False, 'n_iter_no_change': 9, 'warm_start': True, 'class_weight': None}. Best is trial 34 with value: 0.8875193668125676.\n",
      "[I 2024-11-12 17:33:04,551] Trial 36 finished with value: 0.8837179670229172 and parameters: {'alpha': 5.456129398262888e-05, 'eta0': 0.001978002636972994, 'max_iter': 5576, 'tol': 0.0009536707993080081, 'penalty': 'elasticnet', 'early_stopping': False, 'n_iter_no_change': 7, 'warm_start': False, 'class_weight': 'balanced'}. Best is trial 34 with value: 0.8875193668125676.\n",
      "[I 2024-11-12 17:33:18,909] Trial 37 finished with value: 0.30228493722004374 and parameters: {'alpha': 0.03731281905639105, 'eta0': 0.2850387923442578, 'max_iter': 8511, 'tol': 0.00037995379651977764, 'penalty': 'l1', 'early_stopping': False, 'n_iter_no_change': 6, 'warm_start': False, 'class_weight': None}. Best is trial 34 with value: 0.8875193668125676.\n",
      "[I 2024-11-12 17:33:35,587] Trial 38 finished with value: 0.8782214438394972 and parameters: {'alpha': 3.276849756008447e-05, 'eta0': 0.020976935751602036, 'max_iter': 9408, 'tol': 0.0005834677722464031, 'penalty': 'l2', 'early_stopping': False, 'n_iter_no_change': 14, 'warm_start': True, 'class_weight': None}. Best is trial 34 with value: 0.8875193668125676.\n",
      "[I 2024-11-12 17:34:01,530] Trial 39 finished with value: 0.824067241424842 and parameters: {'alpha': 0.0026125761398111203, 'eta0': 0.08768809691279564, 'max_iter': 8308, 'tol': 0.0002089401067696178, 'penalty': 'elasticnet', 'early_stopping': False, 'n_iter_no_change': 9, 'warm_start': False, 'class_weight': 'balanced'}. Best is trial 34 with value: 0.8875193668125676.\n",
      "[I 2024-11-12 17:34:32,099] Trial 40 finished with value: 0.8621670196780732 and parameters: {'alpha': 0.0004853152459830911, 'eta0': 0.003142272294709692, 'max_iter': 3069, 'tol': 0.00012332045977847883, 'penalty': 'l1', 'early_stopping': False, 'n_iter_no_change': 12, 'warm_start': True, 'class_weight': None}. Best is trial 34 with value: 0.8875193668125676.\n",
      "[I 2024-11-12 17:35:18,417] Trial 41 finished with value: 0.8857177924869957 and parameters: {'alpha': 0.0002519475652921473, 'eta0': 0.006232706166728413, 'max_iter': 7327, 'tol': 9.78247255063633e-06, 'penalty': 'elasticnet', 'early_stopping': False, 'n_iter_no_change': 10, 'warm_start': False, 'class_weight': 'balanced'}. Best is trial 34 with value: 0.8875193668125676.\n",
      "[I 2024-11-12 17:36:12,260] Trial 42 finished with value: 0.8828381009700645 and parameters: {'alpha': 0.00023816410430392297, 'eta0': 0.007018529351853706, 'max_iter': 8744, 'tol': 9.507395872419263e-06, 'penalty': 'elasticnet', 'early_stopping': False, 'n_iter_no_change': 11, 'warm_start': False, 'class_weight': 'balanced'}. Best is trial 34 with value: 0.8875193668125676.\n",
      "[I 2024-11-12 17:37:25,095] Trial 43 finished with value: 0.8764808427079396 and parameters: {'alpha': 0.00031141974246373856, 'eta0': 0.0013207945915683227, 'max_iter': 7318, 'tol': 3.459180830053226e-06, 'penalty': 'elasticnet', 'early_stopping': False, 'n_iter_no_change': 20, 'warm_start': False, 'class_weight': 'balanced'}. Best is trial 34 with value: 0.8875193668125676.\n",
      "[I 2024-11-12 17:37:56,881] Trial 44 finished with value: 0.8691238731093525 and parameters: {'alpha': 0.0008897613163042499, 'eta0': 0.010633949412096173, 'max_iter': 6330, 'tol': 1.5323619297532153e-05, 'penalty': 'elasticnet', 'early_stopping': False, 'n_iter_no_change': 8, 'warm_start': False, 'class_weight': 'balanced'}. Best is trial 34 with value: 0.8875193668125676.\n",
      "[I 2024-11-12 17:38:52,567] Trial 45 finished with value: 0.882204090934693 and parameters: {'alpha': 0.00016614488974030843, 'eta0': 0.0020090947899721844, 'max_iter': 7247, 'tol': 7.041732078018846e-06, 'penalty': 'elasticnet', 'early_stopping': False, 'n_iter_no_change': 13, 'warm_start': False, 'class_weight': 'balanced'}. Best is trial 34 with value: 0.8875193668125676.\n",
      "[I 2024-11-12 17:39:03,895] Trial 46 finished with value: 0.8772735873648466 and parameters: {'alpha': 8.076200796342052e-05, 'eta0': 0.006483847321778039, 'max_iter': 8282, 'tol': 2.1111761018595856e-05, 'penalty': 'l2', 'early_stopping': False, 'n_iter_no_change': 9, 'warm_start': False, 'class_weight': 'balanced'}. Best is trial 34 with value: 0.8875193668125676.\n",
      "[I 2024-11-12 17:39:33,428] Trial 47 finished with value: 0.8812500100744519 and parameters: {'alpha': 4.469179572547589e-05, 'eta0': 0.02730915152952558, 'max_iter': 5290, 'tol': 3.344730969047268e-06, 'penalty': 'elasticnet', 'early_stopping': False, 'n_iter_no_change': 5, 'warm_start': False, 'class_weight': 'balanced'}. Best is trial 34 with value: 0.8875193668125676.\n",
      "[I 2024-11-12 17:40:14,092] Trial 48 finished with value: 0.8853815886516936 and parameters: {'alpha': 0.00011101949269403642, 'eta0': 0.0010765426567954923, 'max_iter': 9510, 'tol': 1.2953235565678811e-05, 'penalty': 'elasticnet', 'early_stopping': False, 'n_iter_no_change': 7, 'warm_start': False, 'class_weight': 'balanced'}. Best is trial 34 with value: 0.8875193668125676.\n",
      "[I 2024-11-12 17:40:31,327] Trial 49 finished with value: 0.8645542871048768 and parameters: {'alpha': 0.00024892227557249283, 'eta0': 0.0032445021380219123, 'max_iter': 6608, 'tol': 5.8988744927907685e-06, 'penalty': 'l1', 'early_stopping': True, 'n_iter_no_change': 10, 'warm_start': False, 'class_weight': None}. Best is trial 34 with value: 0.8875193668125676.\n"
     ]
    },
    {
     "name": "stdout",
     "output_type": "stream",
     "text": [
      "Mejores hiperparámetros: {'alpha': 6.592444929090782e-05, 'eta0': 0.0033060171932333985, 'max_iter': 8647, 'tol': 0.0004539642743849618, 'penalty': 'elasticnet', 'early_stopping': False, 'n_iter_no_change': 9, 'warm_start': False, 'class_weight': 'balanced'}\n"
     ]
    }
   ],
   "source": [
    "# Definimos el estudio de Optuna\n",
    "study = optuna.create_study(direction='maximize')  # Maximizar el f1_score\n",
    "study.optimize(objective, n_trials=50)  # Ejecutamos la optimización en 50 ensayos\n",
    "\n",
    "# Imprimimos los mejores parámetros encontrados\n",
    "print(\"Mejores hiperparámetros:\", study.best_params)\n"
   ]
  },
  {
   "cell_type": "code",
   "execution_count": null,
   "metadata": {},
   "outputs": [
    {
     "name": "stdout",
     "output_type": "stream",
     "text": [
      "F1 Score del modelo optimizado: 0.8845968078915054\n"
     ]
    }
   ],
   "source": [
    "# Usamos los mejores parámetros encontrados\n",
    "# Mejores hiperparámetros: {'alpha': 6.592444929090782e-05, 'eta0': 0.0033060171932333985, 'max_iter': 8647,\n",
    "# 'tol': 0.0004539642743849618, 'penalty': 'elasticnet', 'early_stopping': False, 'n_iter_no_change': 9, 'warm_start': False, 'class_weight': 'balanced'}\n",
    "\n",
    "\n",
    "best_params = study.best_params\n",
    "best_clf = Perceptron(alpha=best_params['alpha'],\n",
    "                      eta0=best_params['eta0'],\n",
    "                      max_iter=best_params['max_iter'],\n",
    "                      tol=best_params['tol'],\n",
    "                      random_state=42)\n",
    "\n",
    "# best_clf = Perceptron(alpha=0.0032191057963174897, eta0=0.006051994880577608, max_iter=4880, tol=4.223783952040316e-06, random_state=42)\n",
    "# Entrenamos el mejor modelo\n",
    "best_clf.fit(X_train_scaled, y_train)\n",
    "\n",
    "# Realizamos predicciones\n",
    "y_pred_best = best_clf.predict(X_test_scaled)\n",
    "\n",
    "# Calculamos el F1-score del modelo optimizado\n",
    "f1_best = f1_score(y_test, y_pred_best, average='weighted')\n",
    "print(\"F1 Score del modelo optimizado:\", f1_best)\n",
    "    "
   ]
  }
 ],
 "metadata": {
  "kernelspec": {
   "display_name": "aprendizaje_auto_i",
   "language": "python",
   "name": "python3"
  },
  "language_info": {
   "codemirror_mode": {
    "name": "ipython",
    "version": 3
   },
   "file_extension": ".py",
   "mimetype": "text/x-python",
   "name": "python",
   "nbconvert_exporter": "python",
   "pygments_lexer": "ipython3",
   "version": "3.12.7"
  }
 },
 "nbformat": 4,
 "nbformat_minor": 4
}
